{
 "cells": [
  {
   "cell_type": "markdown",
   "metadata": {},
   "source": [
    "https://github.com/minimaxir/facebook-page-post-scraper/blob/master/examples/how_to_build_facebook_scraper.ipynb"
   ]
  },
  {
   "cell_type": "code",
   "execution_count": 2,
   "metadata": {
    "collapsed": false
   },
   "outputs": [],
   "source": [
    "from urllib.request import urlopen\n",
    "import json\n",
    "import datetime\n",
    "import csv\n",
    "import time\n",
    "import dateutil.parser\n",
    "\n",
    "APP_ID = \"263167120760118\"\n",
    "APP_SECRET = \"66c0e13ad59facee726d4c607116ae37\"\n",
    "\n",
    "access_token = APP_ID + \"|\" + APP_SECRET\n",
    "\n",
    "page_id = 'merckcap'"
   ]
  },
  {
   "cell_type": "code",
   "execution_count": 3,
   "metadata": {
    "collapsed": true
   },
   "outputs": [],
   "source": [
    "def request_until_succeed(url):\n",
    "    success = False\n",
    "    while success is False:\n",
    "        try: \n",
    "            response = urlopen(url)\n",
    "            if response.getcode() == 200:\n",
    "                success = True\n",
    "        except Exception as e:\n",
    "            print(e)\n",
    "            time.sleep(5)\n",
    "            \n",
    "            print(\"Error for URL %s: %s\" % (url, datetime.datetime.now()))\n",
    "\n",
    "    return response.read()"
   ]
  },
  {
   "cell_type": "code",
   "execution_count": 4,
   "metadata": {
    "collapsed": false,
    "scrolled": true
   },
   "outputs": [
    {
     "name": "stdout",
     "output_type": "stream",
     "text": [
      "{\n",
      "    \"id\": \"157141811314444\",\n",
      "    \"name\": \"Merck Capacity Advancement Program\"\n",
      "}\n"
     ]
    }
   ],
   "source": [
    "def testFacebookPageData(page_id, access_token):\n",
    "    \n",
    "    # construct the URL string\n",
    "    base = \"https://graph.facebook.com/v2.4\"\n",
    "    node = \"/\" + page_id\n",
    "    parameters = \"/?access_token=%s\" % access_token\n",
    "    url = base + node + parameters\n",
    "    \n",
    "    #  print(url)\n",
    "    \n",
    "    # retrieve data\n",
    "    data = json.loads(request_until_succeed(url))\n",
    "    print(json.dumps(data, indent=4, sort_keys=True))\n",
    "    \n",
    "\n",
    "facebookpagedata = testFacebookPageData(page_id, access_token)"
   ]
  },
  {
   "cell_type": "code",
   "execution_count": 5,
   "metadata": {
    "collapsed": false
   },
   "outputs": [
    {
     "name": "stdout",
     "output_type": "stream",
     "text": [
      "{\n",
      "    \"data\": [\n",
      "        {\n",
      "            \"created_time\": \"2017-04-18T05:35:03+0000\",\n",
      "            \"id\": \"157141811314444_422573441437945\",\n",
      "            \"message\": \"A message from H. E. First Lady of C.A.R.-Madame Brigitte Touadera- Champion of Merck More Than a Mother http://ow.ly/ozEf30aVZ7c \\nFollow Merck more than a Mother on Twitter - www.twitter.com/merckandmothers\"\n",
      "        },\n",
      "        {\n",
      "            \"created_time\": \"2017-04-17T12:00:20+0000\",\n",
      "            \"id\": \"157141811314444_422185258143430\",\n",
      "            \"message\": \"Merck Capacity Advancement Program - Merck Diabetes And Hypertension 2016 Awards http://ow.ly/pNsa30aUoH7\"\n",
      "        },\n",
      "        {\n",
      "            \"created_time\": \"2017-04-17T09:00:15+0000\",\n",
      "            \"id\": \"157141811314444_422102074818415\",\n",
      "            \"message\": \"Merck More Than A Mother - Aisha Tasila (Sierra Leone) tells us her story of suffering. Watch more - http://ow.ly/6tdu30agOxe\"\n",
      "        },\n",
      "        {\n",
      "            \"created_time\": \"2017-04-17T06:00:08+0000\",\n",
      "            \"id\": \"157141811314444_422030154825607\",\n",
      "            \"message\": \"A Childless Woman Can Live A Normal Life - http://www.redpepper.co.ug/a-childless-woman-can-live-a-normal-life/ \\n\\\" \\u201cMerck more than a mother\\u201d is therefore very important for Africa since it aims to define interventions to reduce the stigma and social suffering of infertile women across the continent,\\u201d - Hon. Sarah Opendi\"\n",
      "        },\n",
      "        {\n",
      "            \"created_time\": \"2017-04-16T11:32:59+0000\",\n",
      "            \"id\": \"157141811314444_421606404867982\",\n",
      "            \"message\": \"#MerckCancerTips - Early signals of #cancer include obvious change in size/texture of a wart or mole.\"\n",
      "        },\n",
      "        {\n",
      "            \"created_time\": \"2017-04-16T11:27:00+0000\",\n",
      "            \"id\": \"157141811314444_421604391534850\",\n",
      "            \"message\": \"Merck More Than A Mother-The Story of Empowering Infertile Women,Liberia who now own a fish business. Watch more https://youtu.be/Mc8eryKEmls\"\n",
      "        },\n",
      "        {\n",
      "            \"created_time\": \"2017-04-16T11:23:02+0000\",\n",
      "            \"id\": \"157141811314444_421602541535035\",\n",
      "            \"message\": \"Merck calls for applications to win Merck Hypertension Award. The aim of Merck Hypertension Award is to create hypertension experts across the globe. Do you have what it takes? Apply before 30th June '17. www.merck-cap.com\"\n",
      "        },\n",
      "        {\n",
      "            \"created_time\": \"2017-04-16T11:18:52+0000\",\n",
      "            \"id\": \"157141811314444_421601218201834\",\n",
      "            \"message\": \"Merck calls for applications to win Merck Diabetes Award. Be creative and think out of the box. Apply before 30th June 2017.\"\n",
      "        },\n",
      "        {\n",
      "            \"created_time\": \"2017-04-15T13:00:16+0000\",\n",
      "            \"id\": \"157141811314444_420979178264038\",\n",
      "            \"message\": \"Merck 'More than a Mother' empowers Grace Kambini, a childless woman from Kibera who suffered the infertility stigma http://ow.ly/xA3o30aSpFB\"\n",
      "        },\n",
      "        {\n",
      "            \"created_time\": \"2017-04-15T10:10:06+0000\",\n",
      "            \"id\": \"157141811314444_420889768272979\",\n",
      "            \"message\": \"Merck Stem Program for Girls and Women, Liberia - Merck More Than A Mother #MerckSTEM http://ow.ly/aLli30aSo0t\"\n",
      "        },\n",
      "        {\n",
      "            \"created_time\": \"2017-04-14T07:45:04+0000\",\n",
      "            \"id\": \"157141811314444_420263695002253\",\n",
      "            \"message\": \"\\\"Being a woman without a child does not make you less than a mother.\\\" H.E. Zuliatu Cooper-Minister of State of Health & Sanitation,Sierra Leone. Watch more: http://ow.ly/KUsY30aQXGk\"\n",
      "        },\n",
      "        {\n",
      "            \"created_time\": \"2017-04-13T06:00:19+0000\",\n",
      "            \"id\": \"157141811314444_419706808391275\",\n",
      "            \"message\": \"Merck More Than A Mother-The Story of Empowering Infertile Women in Liberia. Watch the stories of 3 women who now own a business thanks to Merck: http://ow.ly/QD5430aOgMA\"\n",
      "        },\n",
      "        {\n",
      "            \"created_time\": \"2017-04-12T14:00:30+0000\",\n",
      "            \"id\": \"157141811314444_419361338425822\",\n",
      "            \"message\": \"Merck More Than A Mother-The Story of Empowering Infertile Women,Liberia who now own a clothing business. Watch more http://ow.ly/fU0930aNo1k\"\n",
      "        },\n",
      "        {\n",
      "            \"created_time\": \"2017-04-12T06:15:04+0000\",\n",
      "            \"id\": \"157141811314444_419184021776887\",\n",
      "            \"message\": \"\\\"Merck more than a Mother\\\" Fertility Awareness: Infertility is one of the commonest conditions affecting reproductive age group between 24 and 40 yrs. Read poster for more.\"\n",
      "        },\n",
      "        {\n",
      "            \"created_time\": \"2017-04-11T11:00:52+0000\",\n",
      "            \"id\": \"157141811314444_418731531822136\",\n",
      "            \"message\": \"Think and act on Diabetes everyday. Merck calls for applications to win Merck Diabetes Award; One Year on-line cardiovascular medicines diploma. Apply before 30th June 2017.\"\n",
      "        },\n",
      "        {\n",
      "            \"created_time\": \"2017-04-11T06:00:39+0000\",\n",
      "            \"id\": \"157141811314444_418607205167902\",\n",
      "            \"message\": \"Merck STEM Program for Women and Girls; Belen Garijo CEO Merck Healthcare and Member of Executive Board of Merck http://ow.ly/iQo830aHORz\"\n",
      "        },\n",
      "        {\n",
      "            \"created_time\": \"2017-04-10T12:51:56+0000\",\n",
      "            \"id\": \"157141811314444_418193491875940\",\n",
      "            \"message\": \"dr. Rasha Kelej and Minister Sarah Opendi listening to infertiile women stories of suffering\"\n",
      "        },\n",
      "        {\n",
      "            \"created_time\": \"2017-04-10T12:49:13+0000\",\n",
      "            \"id\": \"157141811314444_418192055209417\",\n",
      "            \"message\": \"Rasha Kelej, chief Social Officer of Merck Healthcare Raising awareness about infertility stigma in the rural areas of Uganda\"\n",
      "        },\n",
      "        {\n",
      "            \"created_time\": \"2017-04-10T06:00:24+0000\",\n",
      "            \"id\": \"157141811314444_418040955224527\",\n",
      "            \"message\": \"H.E. President of the Republic of Liberia and Africa\\u2019s First Female Head of State Madam Ellen Johnson Sirleaf has awarded a \\u201cMedal of Honour\\u201d to Prof. Frank Stangenberg-Haverkamp, Chairman of Executive Board and Family Board of E. Merck KG in recognition of Merck\\u2019s efforts to empower African women and girls in the fields of science and technology where they are currently under-represented. http://ow.ly/hrGy30aHOjF\"\n",
      "        },\n",
      "        {\n",
      "            \"created_time\": \"2017-04-10T04:12:42+0000\",\n",
      "            \"id\": \"157141811314444_454100121608176\"\n",
      "        },\n",
      "        {\n",
      "            \"created_time\": \"2017-04-09T23:00:13+0000\",\n",
      "            \"id\": \"157141811314444_417895581905731\",\n",
      "            \"message\": \"\\\"Merck more than a Mother\\\" Fertility Tips: Eat a balanced diet, and maintain a healthy weight. Obesity is directly related to testosterone levels, a key hormone responsible for sperm production.\"\n",
      "        },\n",
      "        {\n",
      "            \"created_time\": \"2017-04-09T12:42:36+0000\",\n",
      "            \"id\": \"157141811314444_417636065265016\",\n",
      "            \"message\": \"\\u201cMerck More than a Mother\\u201d from Africa to Asia for the first time -in partnership with Asia Pacific Initiative on Reproduction (ASPIRE) \\nhttps://www.merck-cap.com/apex/CAP_ArticleDetail?id=a1mw0000004CFbVAAW\"\n",
      "        },\n",
      "        {\n",
      "            \"created_time\": \"2017-04-09T11:00:27+0000\",\n",
      "            \"id\": \"157141811314444_417594785269144\",\n",
      "            \"message\": \"Merck STEM Program in Liberia already benefitting 140 girls at Victoria Tolbert School to empower them in science and technology.\"\n",
      "        },\n",
      "        {\n",
      "            \"created_time\": \"2017-04-09T09:00:22+0000\",\n",
      "            \"id\": \"157141811314444_417553618606594\",\n",
      "            \"message\": \"Merck More Than A Mother-The Story of Empowering Westpoint Women, Liberia - Watch more: http://ow.ly/Fa4B309BExK\"\n",
      "        },\n",
      "        {\n",
      "            \"created_time\": \"2017-04-09T07:00:24+0000\",\n",
      "            \"id\": \"157141811314444_417493135279309\",\n",
      "            \"message\": \"\\\"Merck More than a Mother\\u201d from Africa to Asia for the first time\\nRead more: http://www.modernmomhq.com/2017/04/merck-more-than-mother-from-africa-to.html#ixzz4dgpg9fea\"\n",
      "        }\n",
      "    ],\n",
      "    \"paging\": {\n",
      "        \"next\": \"https://graph.facebook.com/v2.8/157141811314444/feed?access_token=263167120760118|66c0e13ad59facee726d4c607116ae37&limit=25&until=1491721224&__paging_token=enc_AdBLLZBIg69pHbA3J9ydIqzTN6p51qXxWaIcTHoZCuIRUGTMCmEzGyLeZBx0zzLYVFhXy5YlZBlTQnxhvJofRkJZCg379THjzULEgCgSb323YH7OfvgZDZD\",\n",
      "        \"previous\": \"https://graph.facebook.com/v2.8/157141811314444/feed?since=1492493703&access_token=263167120760118|66c0e13ad59facee726d4c607116ae37&limit=25&__paging_token=enc_AdBZBCI859Pphz3UxfVR9ebvF6M2JsgDOPg3NZAhtt2QYLZCsxI8LNWRthbjTFzFRlJE9hZC2TJoJl4NPNeKgL6i9j1rTlZBq5SZAkDhZCd41lvAzOd3gZDZD&__previous=1\"\n",
      "    }\n",
      "}\n"
     ]
    }
   ],
   "source": [
    "def testFacebookPageFeedData(page_id, access_token):\n",
    "    \n",
    "    # construct the URL string\n",
    "    base = \"https://graph.facebook.com/v2.4\"\n",
    "    node = \"/\" + page_id + \"/feed\" # changed\n",
    "    parameters = \"/?access_token=%s\" % access_token\n",
    "    url = base + node + parameters\n",
    "    \n",
    "    # retrieve data\n",
    "    data = json.loads(request_until_succeed(url))\n",
    "        \n",
    "    print(json.dumps(data, indent=4, sort_keys=True))\n",
    "    \n",
    "\n",
    "facebookpagefeeddata = testFacebookPageFeedData(page_id, access_token)"
   ]
  },
  {
   "cell_type": "code",
   "execution_count": 6,
   "metadata": {
    "collapsed": false
   },
   "outputs": [
    {
     "name": "stdout",
     "output_type": "stream",
     "text": [
      "{\n",
      "    \"comments\": {\n",
      "        \"data\": [],\n",
      "        \"summary\": {\n",
      "            \"can_comment\": false,\n",
      "            \"order\": \"ranked\",\n",
      "            \"total_count\": 0\n",
      "        }\n",
      "    },\n",
      "    \"created_time\": \"2017-04-18T05:35:03+0000\",\n",
      "    \"id\": \"157141811314444_422573441437945\",\n",
      "    \"likes\": {\n",
      "        \"data\": [],\n",
      "        \"summary\": {\n",
      "            \"can_like\": false,\n",
      "            \"has_liked\": false,\n",
      "            \"total_count\": 0\n",
      "        }\n",
      "    },\n",
      "    \"link\": \"http://ow.ly/ozEf30aVZ7c\",\n",
      "    \"message\": \"A message from H. E. First Lady of C.A.R.-Madame Brigitte Touadera- Champion of Merck More Than a Mother http://ow.ly/ozEf30aVZ7c \\nFollow Merck more than a Mother on Twitter - www.twitter.com/merckandmothers\",\n",
      "    \"name\": \"H. E. First Lady of C.A.R.-Madame Brigitte Touadera- Champion of Merck...\",\n",
      "    \"type\": \"video\"\n",
      "}\n"
     ]
    }
   ],
   "source": [
    "def getFacebookPageFeedData(page_id, access_token, num_statuses):\n",
    "    \n",
    "    # construct the URL string\n",
    "    base = \"https://graph.facebook.com\"\n",
    "    node = \"/\" + page_id + \"/feed\" \n",
    "    # parameters = \"/?fields=message,link,created_time,type,name,id,likes.limit(1).summary(true),comments.limit(1).summary(true),shares&limit=%s&access_token=%s\" % (num_statuses, access_token) # changed\n",
    "    parameters = \"/?fields=message,link,created_time,type,name,id,likes.summary(true),comments.summary(true),shares&limit=%s&access_token=%s\" % (num_statuses, access_token) # changed\n",
    "    url = base + node + parameters\n",
    "            \n",
    "    # retrieve data\n",
    "    data = json.loads(request_until_succeed(url))\n",
    "    \n",
    "    return data\n",
    "\n",
    "test_status = getFacebookPageFeedData(page_id, access_token, 1)[\"data\"][0]\n",
    "print(json.dumps(test_status, indent=4, sort_keys=True))"
   ]
  },
  {
   "cell_type": "code",
   "execution_count": 7,
   "metadata": {
    "collapsed": false
   },
   "outputs": [],
   "source": [
    " test = getFacebookPageFeedData(page_id, access_token, 100)"
   ]
  },
  {
   "cell_type": "code",
   "execution_count": 8,
   "metadata": {
    "collapsed": false
   },
   "outputs": [
    {
     "name": "stdout",
     "output_type": "stream",
     "text": [
      "100\n"
     ]
    },
    {
     "data": {
      "text/plain": [
       "{'data': [],\n",
       " 'summary': {'can_like': False, 'has_liked': False, 'total_count': 0}}"
      ]
     },
     "execution_count": 8,
     "metadata": {},
     "output_type": "execute_result"
    }
   ],
   "source": [
    "print(len(test['data']))\n",
    "test['data'][0]['likes']"
   ]
  },
  {
   "cell_type": "code",
   "execution_count": 9,
   "metadata": {
    "collapsed": false
   },
   "outputs": [
    {
     "name": "stdout",
     "output_type": "stream",
     "text": [
      "2017-04-18\n"
     ]
    }
   ],
   "source": [
    "def processFacebookPageFeedStatus(status):\n",
    "    \n",
    "    # The status is now a Python dictionary, so for top-level items,\n",
    "    # we can simply call the key.\n",
    "    \n",
    "    # Additionally, some items may not always exist,\n",
    "    # so must check for existence first\n",
    "    \n",
    "    status_id = status['id']\n",
    "    status_message = '' if 'message' not in status.keys() else status['message'].encode('utf-8')\n",
    "    link_name = '' if 'name' not in status.keys() else status['name'].encode('utf-8')\n",
    "    status_type = status['type']\n",
    "    status_link = '' if 'link' not in status.keys() else status['link']\n",
    "       \n",
    "    \n",
    "    # Time needs special care since a) it's in UTC and\n",
    "    # b) it's not easy to use in statistical programs.\n",
    "    \n",
    "    status_published = datetime.datetime.strptime(status['created_time'],'%Y-%m-%dT%H:%M:%S+0000')\n",
    "    status_published = status_published + datetime.timedelta(hours=-5) # EST\n",
    "    status_published = status_published.strftime('%Y-%m-%d %H:%M:%S') # best time format for spreadsheet programs\n",
    "    \n",
    "    # Nested items require chaining dictionary keys.\n",
    "    \n",
    "    num_likes = 0 if 'likes' not in status.keys() else status['likes']['summary']['total_count']\n",
    "    num_comments = 0 if 'comments' not in status.keys() else status['comments']['summary']['total_count']\n",
    "    num_shares = 0 if 'shares' not in status.keys() else status['shares']['count']\n",
    "    \n",
    "    # return a tuple of all processed data\n",
    "    return (status_id, status_message, link_name, status_type, status_link,\n",
    "           status_published, num_likes, num_comments, num_shares)\n",
    "\n",
    "processed_test_status = processFacebookPageFeedStatus(test_status)\n",
    "print(dateutil.parser.parse(processed_test_status[5]).date())"
   ]
  },
  {
   "cell_type": "code",
   "execution_count": 10,
   "metadata": {
    "collapsed": false
   },
   "outputs": [
    {
     "name": "stdout",
     "output_type": "stream",
     "text": [
      "Scraping merckcap Facebook Page: 2017-04-18 12:11:32.275485\n",
      "\n",
      "<urlopen error [WinError 10060] A connection attempt failed because the connected party did not properly respond after a period of time, or established connection failed because connected host has failed to respond>\n",
      "Error for URL https://graph.facebook.com/merckcap/feed/?fields=message,link,created_time,type,name,id,likes.summary(true),comments.summary(true),shares&limit=100&access_token=263167120760118|66c0e13ad59facee726d4c607116ae37: 2017-04-18 12:11:58.538320\n",
      "<urlopen error [WinError 10060] A connection attempt failed because the connected party did not properly respond after a period of time, or established connection failed because connected host has failed to respond>\n",
      "Error for URL https://graph.facebook.com/v2.8/157141811314444/feed?fields=message,link,created_time,type,name,id,likes.summary%28true%29,comments.summary%28true%29,shares&limit=100&__paging_token=enc_AdDRrV6moTZCGuQBnByJTsvuD6CY1E5NufCLMT6Eztnx5sFvOyMponlTVhDvZCnyMmtYbaDAMnBsvXXCZBK01us8uaiclC5oD9KJl4e5g5jTgPDQgZDZD&access_token=263167120760118|66c0e13ad59facee726d4c607116ae37&until=1478581233: 2017-04-18 12:12:46.984972\n",
      "1000 Statuses Processed: 2017-04-18 12:13:01.342796\n",
      "\n",
      "Done!\n",
      "1509 Statuses Processed in 0:01:54.586551\n"
     ]
    }
   ],
   "source": [
    "def scrapeFacebookPageFeedStatus(page_id, access_token):\n",
    "    with open('%s_facebook_statuses.csv' % page_id, 'w') as file:\n",
    "        w = csv.writer(file)\n",
    "        w.writerow([\"status_id\", \"status_message\", \"link_name\", \"status_type\", \"status_link\",\n",
    "           \"status_published\", \"num_likes\", \"num_comments\", \"num_shares\"])\n",
    "        \n",
    "        has_next_page = True\n",
    "        num_processed = 0   # keep a count on how many we've processed\n",
    "        scrape_starttime = datetime.datetime.now()\n",
    "        \n",
    "        print(\"Scraping %s Facebook Page: %s\\n\" % (page_id, scrape_starttime))\n",
    "        \n",
    "        statuses = getFacebookPageFeedData(page_id, access_token, 100)\n",
    "        \n",
    "        while has_next_page:\n",
    "            processdate = []\n",
    "            for status in statuses['data']:\n",
    "                processdate = processFacebookPageFeedStatus(status)\n",
    "                w.writerow(processdate)\n",
    "                \n",
    "                # output progress occasionally to make sure code is not stalling\n",
    "                num_processed += 1\n",
    "                if num_processed % 1000 == 0:\n",
    "                    print(\"%s Statuses Processed: %s\" % (num_processed, datetime.datetime.now()))\n",
    "                    \n",
    "            # if there is no next page, we're done.\n",
    "            if 'paging' in statuses.keys():\n",
    "                statuses = json.loads(request_until_succeed(statuses['paging']['next']))\n",
    "            else:\n",
    "                has_next_page = False\n",
    "                \n",
    "        \n",
    "        print(\"\\nDone!\\n%s Statuses Processed in %s\" % (num_processed, datetime.datetime.now() - scrape_starttime))\n",
    "\n",
    "\n",
    "scrapeFacebookPageFeedStatus(page_id, access_token)"
   ]
  },
  {
   "cell_type": "code",
   "execution_count": 79,
   "metadata": {
    "collapsed": false
   },
   "outputs": [
    {
     "name": "stdout",
     "output_type": "stream",
     "text": [
      "Scraping merckcap Facebook Page: 2017-04-17 16:12:35.789214\n",
      "\n",
      "1000 Statuses Processed: 2017-04-17 16:13:11.101583\n",
      "\n",
      "Done!\n",
      "1507 Statuses Processed in 0:00:55.360347\n",
      "Scraping GrantThorntonIndiaLLP Facebook Page: 2017-04-17 16:13:31.156058\n",
      "\n",
      "\n",
      "Done!\n",
      "451 Statuses Processed in 0:00:20.530785\n"
     ]
    }
   ],
   "source": [
    "list_companies = [\"merckcap\",\"GrantThorntonIndiaLLP\"]\n",
    "# list_companies = [\"walmart\", \"cisco\", \"pepsi\", \"facebook\"]\n",
    "def scrapeFacebookPageFeedStatus(list_companie, access_token):\n",
    "    for page_id in list_companie:\n",
    "        with open('%s_facebook_statuses.csv' % page_id, 'w') as file:\n",
    "            w = csv.writer(file)\n",
    "            w.writerow([\"status_id\", \"status_message\", \"link_name\", \"status_type\", \"status_link\",\n",
    "           \"status_published\", \"num_likes\", \"num_comments\", \"num_shares\"])\n",
    "        \n",
    "            has_next_page = True\n",
    "            num_processed = 0   # keep a count on how many we've processed\n",
    "            scrape_starttime = datetime.datetime.now()\n",
    "        \n",
    "            print(\"Scraping %s Facebook Page: %s\\n\" % (page_id, scrape_starttime))\n",
    "        \n",
    "            statuses = getFacebookPageFeedData(page_id, access_token, 100)\n",
    "        \n",
    "            while has_next_page:\n",
    "                for status in statuses['data']:\n",
    "                    w.writerow(processFacebookPageFeedStatus(status))\n",
    "                \n",
    "                    # output progress occasionally to make sure code is not stalling\n",
    "                    num_processed += 1\n",
    "                    if num_processed % 1000 == 0:\n",
    "                        print(\"%s Statuses Processed: %s\" % (num_processed, datetime.datetime.now()))\n",
    "                        \n",
    "                # if there is no next page, we're done.\n",
    "                if 'paging' in statuses.keys():\n",
    "                    statuses = json.loads(request_until_succeed(statuses['paging']['next']))\n",
    "                else:\n",
    "                    has_next_page = False\n",
    "                \n",
    "        \n",
    "            print(\"\\nDone!\\n%s Statuses Processed in %s\" % (num_processed, datetime.datetime.now() - scrape_starttime))\n",
    "        \n",
    "scrapeFacebookPageFeedStatus(list_companies, access_token)"
   ]
  },
  {
   "cell_type": "code",
   "execution_count": 11,
   "metadata": {
    "collapsed": false
   },
   "outputs": [
    {
     "name": "stdout",
     "output_type": "stream",
     "text": [
      "Scraping merckcap Facebook Page: 2017-04-18 12:17:27.762127\n",
      "\n",
      "1000 Statuses Processed: 2017-04-18 12:18:06.458040\n",
      "<urlopen error [WinError 10060] A connection attempt failed because the connected party did not properly respond after a period of time, or established connection failed because connected host has failed to respond>\n",
      "Error for URL https://graph.facebook.com/v2.8/157141811314444/feed?fields=message,link,created_time,type,name,id,likes.summary%28true%29,comments.summary%28true%29,shares&limit=100&__paging_token=enc_AdCKkJwOPhOei8ChlxYSv2rZBZAml4WmqBewov8e4HdAs6HOqsJZBfrNrvPOrDHYZBeZAaqsB3ZBPxyO2kCzRxbURDZCgNnsztGZBZBYuZCwKjDKbGwNXOhAZDZD&access_token=263167120760118|66c0e13ad59facee726d4c607116ae37&until=1450680192: 2017-04-18 12:18:53.700539\n",
      "\n",
      "Done!\n",
      "1509 Statuses Processed in 0:01:27.550117\n",
      "Scraping GrantThorntonIndiaLLP Facebook Page: 2017-04-18 12:18:55.318745\n",
      "\n",
      "\n",
      "Done!\n",
      "451 Statuses Processed in 0:00:20.984164\n",
      "Scraping deloitte Facebook Page: 2017-04-18 12:19:16.308910\n",
      "\n",
      "1000 Statuses Processed: 2017-04-18 12:20:12.636563\n",
      "2000 Statuses Processed: 2017-04-18 12:21:22.690959\n",
      "\n",
      "Done!\n",
      "2085 Statuses Processed in 0:02:16.438826\n",
      "Scraping KPMG Facebook Page: 2017-04-18 12:21:32.753737\n",
      "\n",
      "1000 Statuses Processed: 2017-04-18 12:22:42.832135\n",
      "\n",
      "Done!\n",
      "1945 Statuses Processed in 0:02:21.251436\n",
      "Scraping pwcus Facebook Page: 2017-04-18 12:23:54.013174\n",
      "\n",
      "1000 Statuses Processed: 2017-04-18 12:24:42.252800\n",
      "2000 Statuses Processed: 2017-04-18 12:25:30.275398\n",
      "\n",
      "Done!\n",
      "2329 Statuses Processed in 0:01:50.486030\n"
     ]
    }
   ],
   "source": [
    "#list_companies = [\"walmart\", \"cisco\", \"pepsi\", \"facebook\"]\n",
    "list_companies = [\"merckcap\",\"GrantThorntonIndiaLLP\",\"deloitte\",\"KPMG\",\"pwcus\"]\n",
    "def scrapeFacebookPageFeedStatus(list_companie, access_token):\n",
    "    for page_id in list_companie:\n",
    "        with open('%s_facebook_statuses.csv' % page_id, 'w') as file:\n",
    "            w = csv.writer(file)\n",
    "            w.writerow([\"status_id\", \"status_message\", \"link_name\", \"status_type\", \"status_link\",\n",
    "           \"status_published\", \"num_likes\", \"num_comments\", \"num_shares\"])\n",
    "        \n",
    "            has_next_page = True\n",
    "            num_processed = 0   # keep a count on how many we've processed\n",
    "            scrape_starttime = datetime.datetime.now()\n",
    "        \n",
    "            print(\"Scraping %s Facebook Page: %s\\n\" % (page_id, scrape_starttime))\n",
    "        \n",
    "            statuses = getFacebookPageFeedData(page_id, access_token, 100)\n",
    "        \n",
    "            while has_next_page:\n",
    "                processdate = []\n",
    "                for status in statuses['data']:\n",
    "                    processdate = processFacebookPageFeedStatus(status)\n",
    "                    w.writerow(processdate)\n",
    "                \n",
    "                    # output progress occasionally to make sure code is not stalling\n",
    "                    num_processed += 1\n",
    "                    if num_processed % 1000 == 0:\n",
    "                        print(\"%s Statuses Processed: %s\" % (num_processed, datetime.datetime.now()))\n",
    "                \n",
    "                # if there is no next page, we're done.\n",
    "                if 'paging' in statuses.keys():\n",
    "                    statuses = json.loads(request_until_succeed(statuses['paging']['next']))\n",
    "                    # print(processdate[5])\n",
    "                else:\n",
    "                    has_next_page = False\n",
    "                \n",
    "        \n",
    "            print(\"\\nDone!\\n%s Statuses Processed in %s\" % (num_processed, datetime.datetime.now() - scrape_starttime))\n",
    "        \n",
    "scrapeFacebookPageFeedStatus(list_companies, access_token)"
   ]
  },
  {
   "cell_type": "markdown",
   "metadata": {},
   "source": [
    "###### Date Comparision"
   ]
  },
  {
   "cell_type": "code",
   "execution_count": 103,
   "metadata": {
    "collapsed": false
   },
   "outputs": [
    {
     "name": "stdout",
     "output_type": "stream",
     "text": [
      "Scraping merckcap Facebook Page: 2017-04-18 11:39:46.952040\n",
      "\n",
      "1000 Statuses Processed: 2017-04-18 11:40:22.745085\n",
      "\n",
      "Done!\n",
      "1000 Statuses Processed in 0:00:38.802927\n",
      "Scraping GrantThorntonIndiaLLP Facebook Page: 2017-04-18 11:40:25.767969\n",
      "\n",
      "\n",
      "Done!\n",
      "100 Statuses Processed in 0:00:07.241920\n",
      "Scraping deloitte Facebook Page: 2017-04-18 11:40:33.018890\n",
      "\n",
      "\n",
      "Done!\n",
      "200 Statuses Processed in 0:00:27.591003\n",
      "Scraping KPMG Facebook Page: 2017-04-18 11:41:00.617895\n",
      "\n",
      "\n",
      "Done!\n",
      "200 Statuses Processed in 0:00:29.932800\n",
      "Scraping pwcus Facebook Page: 2017-04-18 11:41:30.558697\n",
      "\n",
      "\n",
      "Done!\n",
      "300 Statuses Processed in 0:00:24.123063\n"
     ]
    }
   ],
   "source": [
    "#list_companies = [\"walmart\", \"cisco\", \"pepsi\", \"facebook\",\"EY-195665063800329\"]\n",
    "list_companies = [\"merckcap\",\"GrantThorntonIndiaLLP\",\"deloitte\",\"KPMG\",\"pwcus\"]\n",
    "def scrapeFacebookPageFeedStatus(list_companie, access_token):\n",
    "    for page_id in list_companie:\n",
    "        # with open('S:\\\\%s_facebook_statuses_time.csv' % page_id, 'w') as file:\n",
    "        with open('%s_facebook_statuses_time.csv' % page_id, 'w') as file:\n",
    "            w = csv.writer(file)\n",
    "            w.writerow([\"status_id\", \"status_message\", \"link_name\", \"status_type\", \"status_link\",\n",
    "           \"status_published\", \"num_likes\", \"num_comments\", \"num_shares\"])\n",
    "        \n",
    "            has_next_page = True\n",
    "            num_processed = 0   # keep a count on how many we've processed\n",
    "            scrape_starttime = datetime.datetime.now()\n",
    "        \n",
    "            print(\"Scraping %s Facebook Page: %s\\n\" % (page_id, scrape_starttime))\n",
    "        \n",
    "            statuses = getFacebookPageFeedData(page_id, access_token, 100)\n",
    "        \n",
    "            while has_next_page:\n",
    "                processdate = []\n",
    "                for status in statuses['data']:\n",
    "                    processdate = processFacebookPageFeedStatus(status)\n",
    "                    w.writerow(processdate)\n",
    "                \n",
    "                    # output progress occasionally to make sure code is not stalling\n",
    "                    num_processed += 1\n",
    "                    if num_processed % 1000 == 0:\n",
    "                        print(\"%s Statuses Processed: %s\" % (num_processed, datetime.datetime.now()))\n",
    "                \n",
    "                # if there is no next page, we're done.\n",
    "                if 'paging' in statuses.keys():\n",
    "                    statuses = json.loads(request_until_succeed(statuses['paging']['next']))\n",
    "                    if dateutil.parser.parse(processdate[5]).date() < datetime.datetime(2016, 8, 25).date():\n",
    "                        has_next_page = False\n",
    "                else:\n",
    "                    has_next_page = False\n",
    "                \n",
    "        \n",
    "            print(\"\\nDone!\\n%s Statuses Processed in %s\" % (num_processed, datetime.datetime.now() - scrape_starttime))\n",
    "        \n",
    "scrapeFacebookPageFeedStatus(list_companies, access_token)"
   ]
  },
  {
   "cell_type": "code",
   "execution_count": 84,
   "metadata": {
    "collapsed": false
   },
   "outputs": [
    {
     "data": {
      "text/plain": [
       "datetime.date(2016, 8, 25)"
      ]
     },
     "execution_count": 84,
     "metadata": {},
     "output_type": "execute_result"
    }
   ],
   "source": [
    "datetime.datetime(2016, 8, 25).date()"
   ]
  },
  {
   "cell_type": "code",
   "execution_count": 86,
   "metadata": {
    "collapsed": false
   },
   "outputs": [
    {
     "data": {
      "text/plain": [
       "True"
      ]
     },
     "execution_count": 86,
     "metadata": {},
     "output_type": "execute_result"
    }
   ],
   "source": [
    "dateutil.parser.parse(processed_test_status[5]).date() > datetime.datetime(2015, 8, 25).date()"
   ]
  },
  {
   "cell_type": "code",
   "execution_count": 95,
   "metadata": {
    "collapsed": false
   },
   "outputs": [
    {
     "data": {
      "text/plain": [
       "datetime.timedelta(601)"
      ]
     },
     "execution_count": 95,
     "metadata": {},
     "output_type": "execute_result"
    }
   ],
   "source": [
    "dateutil.parser.parse(processed_test_status[5]).date() - datetime.datetime(2015, 8, 25).date()"
   ]
  },
  {
   "cell_type": "code",
   "execution_count": 94,
   "metadata": {
    "collapsed": false
   },
   "outputs": [
    {
     "data": {
      "text/plain": [
       "datetime.date(2017, 4, 17)"
      ]
     },
     "execution_count": 94,
     "metadata": {},
     "output_type": "execute_result"
    }
   ],
   "source": [
    "dateutil.parser.parse(processed_test_status[5]).date()"
   ]
  },
  {
   "cell_type": "code",
   "execution_count": null,
   "metadata": {
    "collapsed": true
   },
   "outputs": [],
   "source": []
  }
 ],
 "metadata": {
  "kernelspec": {
   "display_name": "Python 3",
   "language": "python",
   "name": "python3"
  },
  "language_info": {
   "codemirror_mode": {
    "name": "ipython",
    "version": 3
   },
   "file_extension": ".py",
   "mimetype": "text/x-python",
   "name": "python",
   "nbconvert_exporter": "python",
   "pygments_lexer": "ipython3",
   "version": "3.6.0"
  }
 },
 "nbformat": 4,
 "nbformat_minor": 2
}
